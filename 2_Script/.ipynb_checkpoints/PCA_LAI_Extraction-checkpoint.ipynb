{
 "cells": [
  {
   "cell_type": "markdown",
   "metadata": {},
   "source": [
    "# PCA-Analyzer-Extraction\n",
    "This simple script is used for extracting the LAI ground measurements via the LAI-2200C (Plant Canopy Analyzer).<br>\n",
    "Input table is required, and the input table should be exactly the same as the example. The first three sheets come from the 'Analyzer' by copy and past, and the 4th sheet come from the 2nd sheet by only copy and past the main part of the 2nd sheet.<br>\n",
    "Another thing need to be awarded is the name for each sheet. Keep it as mine or change both names in the EXCEL and in this script.\n",
    "\n",
    "Created by 2021-1-1<br>\n",
    "Last update on 2021-10-31<br>\n",
    "\n",
    "Contact information:<br>\n",
    "Rui Gao<br>\n",
    "rui.gao@usu.edu<br>"
   ]
  },
  {
   "cell_type": "code",
   "execution_count": 1,
   "metadata": {},
   "outputs": [],
   "source": [
    "import pandas as pd"
   ]
  },
  {
   "cell_type": "code",
   "execution_count": 3,
   "metadata": {},
   "outputs": [],
   "source": [
    "def FolderCreater(path):\n",
    "    '''\n",
    "    Create a new folder    \n",
    "    path: for example (path = r'D:\\Example\\Folder_1')\n",
    "    '''\n",
    "    import os\n",
    "    if not os.path.exists(path):\n",
    "        os.makedirs(path)"
   ]
  },
  {
   "cell_type": "code",
   "execution_count": 8,
   "metadata": {},
   "outputs": [],
   "source": [
    "# The manually processed EXCEL file\n",
    "name_excel = r'/Users/danielmederer/Documents/GitHub/LAI2200C-PCA_Feature_Extraction/1_Data/PCA-Analyzer-Manual.xlsx'\n",
    "# The folder where to save the result\n",
    "path_output = r'/Users/danielmederer/Documents/GitHub/LAI2200C-PCA_Feature_Extraction/3_Result'\n",
    "# A name for the result\n",
    "name_output = '/processed_result.csv'"
   ]
  },
  {
   "cell_type": "code",
   "execution_count": 9,
   "metadata": {},
   "outputs": [],
   "source": [
    "FolderCreater(path_output)\n",
    "xls = pd.ExcelFile(name_excel)\n",
    "df_current = pd.read_excel(xls,'Current_new')\n",
    "df_LAI = pd.read_excel(xls,'Gap Fractions')"
   ]
  },
  {
   "cell_type": "code",
   "execution_count": 10,
   "metadata": {},
   "outputs": [
    {
     "name": "stdout",
     "output_type": "stream",
     "text": [
      "Totally 7  valid LAI records and \n",
      "   around 22 records for locations in the EXCEL file.\n",
      "\n",
      "3 36.800738 -120.21296 2.23319 20210805 12:02:14\n",
      "5 36.800736 -120.21295 0.508865 20210805 12:02:21\n",
      "15 36.800741 -120.2129 1.05833 20210805 12:02:55\n",
      "17 36.800715 -120.21284 1.77913 20210805 12:03:10\n",
      "19 36.800725 -120.21286 0.572381 20210805 12:03:16\n",
      "31 36.800693 -120.21279 1.75065 20210805 12:04:08\n",
      "33 36.800697 -120.2128 0.391706 20210805 12:04:14\n"
     ]
    }
   ],
   "source": [
    "ID = []\n",
    "LAI = []\n",
    "Time = []\n",
    "Latitude = []\n",
    "Longtitude = []\n",
    "number_Gap = len(df_LAI['LAI'].values)\n",
    "number_Current = len(df_current['No'].values)\n",
    "print('Totally',number_Gap,' valid LAI records and \\n   around',str(int(number_Current/2)),'records for locations in the EXCEL file.\\n')\n",
    "for ieach in range(number_Gap):\n",
    "    ID_real = df_LAI['B_Obs'].values[ieach]\n",
    "    isearch = 0\n",
    "    while isearch < number_Current:\n",
    "        if ID_real == df_current['No'].values[isearch]-1:\n",
    "            ID.append(ID_real)\n",
    "            LAI.append(df_LAI['LAI'].values[ieach])\n",
    "            Time.append(df_current['Time'].values[isearch])\n",
    "            Latitude.append(df_current['Latitude'].values[isearch])\n",
    "            Longtitude.append(df_current['Longtitude'].values[isearch])\n",
    "            print(df_LAI['B_Obs'].values[ieach],\n",
    "                  df_current['Latitude'].values[isearch],\n",
    "                  df_current['Longtitude'].values[isearch],\n",
    "                  df_LAI['LAI'].values[ieach],\n",
    "                  df_current['Time'].values[isearch])\n",
    "            isearch += 1\n",
    "            continue\n",
    "        isearch += 1"
   ]
  },
  {
   "cell_type": "code",
   "execution_count": 11,
   "metadata": {},
   "outputs": [
    {
     "name": "stdout",
     "output_type": "stream",
     "text": [
      "Done!!! \n",
      "Total 7 valid LAI records are saved.\n"
     ]
    }
   ],
   "source": [
    "# print(len(ID),len(LAI),len(Time),len(Latitude),len(Longtitude))\n",
    "df_LAI = pd.DataFrame()\n",
    "df_LAI['ID'] = ID\n",
    "df_LAI['LAI'] = LAI\n",
    "df_LAI['Time'] = Time\n",
    "df_LAI['Lat'] = Latitude\n",
    "df_LAI['Lon'] = Longtitude\n",
    "df_LAI\n",
    "df_LAI.to_csv(path_output + name_output,index=False)\n",
    "print(\"Done!!! \\nTotal\",str(len(ID)),\"valid LAI records are saved.\")"
   ]
  },
  {
   "cell_type": "code",
   "execution_count": null,
   "metadata": {},
   "outputs": [],
   "source": []
  }
 ],
 "metadata": {
  "kernelspec": {
   "display_name": "Python 3 (ipykernel)",
   "language": "python",
   "name": "python3"
  },
  "language_info": {
   "codemirror_mode": {
    "name": "ipython",
    "version": 3
   },
   "file_extension": ".py",
   "mimetype": "text/x-python",
   "name": "python",
   "nbconvert_exporter": "python",
   "pygments_lexer": "ipython3",
   "version": "3.9.12"
  }
 },
 "nbformat": 4,
 "nbformat_minor": 4
}
