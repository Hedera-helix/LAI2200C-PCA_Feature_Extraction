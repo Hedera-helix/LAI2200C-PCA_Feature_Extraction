{
 "cells": [
  {
   "cell_type": "markdown",
   "metadata": {},
   "source": [
    "# PCA-Analyzer-Extraction\n",
    "This simple script is used for extracting the LAI ground measurements via the LAI-2200C (Plant Canopy Analyzer).<br>\n",
    "Input table is required, and the input table should be exactly the same as the example. The first three sheets come from the 'Analyzer' by copy and past, and the 4th sheet come from the 2nd sheet by only copy and past the main part of the 2nd sheet.<br>\n",
    "Another thing need to be awarded is the name for each sheet. Keep it as mine or change both names in the EXCEL and in this script.\n",
    "\n",
    "Created by 2021-1-1<br>\n",
    "Last update on 2021-10-31<br>\n",
    "\n",
    "Contact information:<br>\n",
    "Rui Gao<br>\n",
    "rui.gao@usu.edu<br>"
   ]
  },
  {
   "cell_type": "code",
   "execution_count": 1,
   "metadata": {},
   "outputs": [],
   "source": [
    "import pandas as pd"
   ]
  },
  {
   "cell_type": "code",
   "execution_count": 2,
   "metadata": {},
   "outputs": [],
   "source": [
    "# where to find the function below: https://github.com/RuiGao9/Rui_Python_Functions_Package\n",
    "%run D:\\Python_Functions\\FolderCreater.py"
   ]
  },
  {
   "cell_type": "code",
   "execution_count": 47,
   "metadata": {},
   "outputs": [],
   "source": [
    "# The manually processed EXCEL file\n",
    "name_excel = r'D:...\\PCA-Analyzer-Manual.xlsx'\n",
    "# The folder where to save the result\n",
    "path_output = r'D:...'\n",
    "# A name for the result\n",
    "name_output = 'D:...\\.csv'"
   ]
  },
  {
   "cell_type": "code",
   "execution_count": 48,
   "metadata": {},
   "outputs": [],
   "source": [
    "FolderCreater(path_output)\n",
    "xls = pd.ExcelFile(name_excel)\n",
    "df_current = pd.read_excel(xls,'Current_new')\n",
    "df_LAI = pd.read_excel(xls,'Gap Fractions')"
   ]
  },
  {
   "cell_type": "code",
   "execution_count": 49,
   "metadata": {},
   "outputs": [
    {
     "name": "stdout",
     "output_type": "stream",
     "text": [
      "Totally 28  valid LAI records and \n",
      "   around 29 records for locations in the EXCEL file.\n",
      "\n",
      "3 36.800669 -120.20854 3.34598 20210805 10:33:59\n",
      "5 36.800682 -120.20855 3.00789 20210805 10:34:05\n",
      "7 36.800677 -120.20856 2.62893 20210805 10:34:11\n",
      "9 36.800658 -120.20857 2.48958 20210805 10:34:19\n",
      "11 36.800668 -120.20855 2.5975 20210805 10:35:02\n",
      "13 36.800675 -120.20856 2.89594 20210805 10:35:07\n",
      "15 36.800683 -120.20854 3.44998 20210805 10:35:13\n",
      "17 36.800663 -120.20851 3.48699 20210805 10:35:24\n",
      "19 36.800654 -120.20851 3.15185 20210805 10:35:31\n",
      "21 36.800654 -120.20852 2.57183 20210805 10:35:38\n",
      "23 36.800652 -120.20852 2.3279 20210805 10:35:48\n",
      "25 36.800652 -120.20851 2.58605 20210805 10:35:55\n",
      "27 36.800667 -120.20852 2.98645 20210805 10:36:01\n",
      "29 36.800683 -120.2085 3.45056 20210805 10:36:11\n",
      "31 36.800688 -120.20844 3.39782 20210805 10:36:35\n",
      "33 36.800683 -120.20842 3.23622 20210805 10:36:40\n",
      "35 36.800681 -120.20841 2.77031 20210805 10:36:45\n",
      "37 36.800685 -120.2084 2.47384 20210805 10:36:49\n",
      "39 36.800682 -120.20839 2.72932 20210805 10:36:53\n",
      "41 36.80067 -120.20836 3.4073 20210805 10:37:00\n",
      "43 36.800673 -120.20836 3.65775 20210805 10:37:06\n",
      "45 36.800691 -120.20841 3.55281 20210805 10:37:13\n",
      "47 36.800673 -120.20837 2.94149 20210805 10:37:20\n",
      "49 36.800665 -120.20837 2.63338 20210805 10:37:25\n",
      "51 36.800663 -120.20835 2.58666 20210805 10:37:29\n",
      "53 36.800652 -120.20833 2.74306 20210805 10:37:35\n",
      "55 36.800638 -120.20833 3.13239 20210805 10:37:40\n",
      "57 36.800648 -120.20834 3.74449 20210805 10:37:44\n"
     ]
    }
   ],
   "source": [
    "ID = []\n",
    "LAI = []\n",
    "Time = []\n",
    "Latitude = []\n",
    "Longtitude = []\n",
    "number_Gap = len(df_LAI['LAI'].values)\n",
    "number_Current = len(df_current['No'].values)\n",
    "print('Totally',number_Gap,' valid LAI records and \\n   around',str(int(number_Current/2)),'records for locations in the EXCEL file.\\n')\n",
    "for ieach in range(number_Gap):\n",
    "    ID_real = df_LAI['B_Obs'].values[ieach]\n",
    "    isearch = 0\n",
    "    while isearch < number_Current:\n",
    "        if ID_real == df_current['No'].values[isearch]-1:\n",
    "            ID.append(ID_real)\n",
    "            LAI.append(df_LAI['LAI'].values[ieach])\n",
    "            Time.append(df_current['Time'].values[isearch])\n",
    "            Latitude.append(df_current['Latitude'].values[isearch])\n",
    "            Longtitude.append(df_current['Longtitude'].values[isearch])\n",
    "            print(df_LAI['B_Obs'].values[ieach],\n",
    "                  df_current['Latitude'].values[isearch],\n",
    "                  df_current['Longtitude'].values[isearch],\n",
    "                  df_LAI['LAI'].values[ieach],\n",
    "                  df_current['Time'].values[isearch])\n",
    "            isearch += 1\n",
    "            continue\n",
    "        isearch += 1"
   ]
  },
  {
   "cell_type": "code",
   "execution_count": 50,
   "metadata": {},
   "outputs": [
    {
     "name": "stdout",
     "output_type": "stream",
     "text": [
      "Done!!! \n",
      "Total 28 valid LAI records are saved.\n"
     ]
    }
   ],
   "source": [
    "# print(len(ID),len(LAI),len(Time),len(Latitude),len(Longtitude))\n",
    "df_LAI = pd.DataFrame()\n",
    "df_LAI['ID'] = ID\n",
    "df_LAI['LAI'] = LAI\n",
    "df_LAI['Time'] = Time\n",
    "df_LAI['Lat'] = Latitude\n",
    "df_LAI['Lon'] = Longtitude\n",
    "df_LAI\n",
    "df_LAI.to_csv(path_output + \"\\\\\" + name_output,index=False)\n",
    "print(\"Done!!! \\nTotal\",str(len(ID)),\"valid LAI records are saved.\")"
   ]
  },
  {
   "cell_type": "code",
   "execution_count": null,
   "metadata": {},
   "outputs": [],
   "source": []
  }
 ],
 "metadata": {
  "kernelspec": {
   "display_name": "Python 3",
   "language": "python",
   "name": "python3"
  },
  "language_info": {
   "codemirror_mode": {
    "name": "ipython",
    "version": 3
   },
   "file_extension": ".py",
   "mimetype": "text/x-python",
   "name": "python",
   "nbconvert_exporter": "python",
   "pygments_lexer": "ipython3",
   "version": "3.7.10"
  }
 },
 "nbformat": 4,
 "nbformat_minor": 4
}
